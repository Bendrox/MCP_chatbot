{
 "cells": [
  {
   "cell_type": "markdown",
   "id": "c25968da",
   "metadata": {},
   "source": [
    "## Testing MCP and OPENAI connectors"
   ]
  },
  {
   "cell_type": "markdown",
   "id": "3f3cb6a5",
   "metadata": {},
   "source": [
    "### v1 - Full context"
   ]
  },
  {
   "cell_type": "code",
   "execution_count": null,
   "id": "8a6acd85",
   "metadata": {},
   "outputs": [
    {
     "name": "stdout",
     "output_type": "stream",
     "text": [
      "--- Statistics ---\n",
      "Input tokens : 2753\n",
      "Output tokens : 1478\n",
      "Total tokens : 4231\n",
      "\n",
      "--- Chatbot reponse ---\n",
      "J'ai récupéré les deux versions du texte LEGIARTI000041577698 avec le token fourni. Ci‑dessous les textes et un comparatif des modifications.\n",
      "\n",
      "Version « précédente » (ancienne) — récupérée :\n",
      "Les personnes physiques ou morales qui exercent, en lien direct avec leur activité principale, une activité financière accessoire qui relève d'une des catégories mentionnées aux 1° à 7° de l'article L. 561-2 et qui présente peu de risques de blanchiment de capitaux ou de financement du terrorisme sont exemptées des obligations du présent chapitre. Un décret en Conseil d'Etat définit les activités financières accessoires en fonction de leur nature, de leur volume et du montant des opérations.\n",
      "\n",
      "Version « en vigueur » (nouvelle) — récupérée :\n",
      "Les personnes physiques ou morales qui exercent, en lien direct avec leur activité principale, une activité financière accessoire qui relève d'une des catégories mentionnées aux 1° à 7° quater de l'article L. 561-2 et qui présente peu de risques de blanchiment de capitaux ou de financement du terrorisme sont exemptées des obligations du présent chapitre. Un décret en Conseil d'Etat définit limitativement les activités financières susceptibles d'être regardées comme accessoires en tenant compte de la nature, du volume et du montant des opérations qu'elles recouvrent. Le premier alinéa ne s'applique pas aux personnes physiques ou morales qui fournissent le service mentionné au 6° du II de l'article L. 314-1 .\n",
      "\n",
      "Principales différences relevées\n",
      "- Référence modifiée : \"1° à 7°\" devient \"1° à 7° quater\" (référence législative précisée).\n",
      "- Formulation du décret : secours large (\"définit les activités financières accessoires en fonction...\") → plus contraignant et restrictif (\"définit limitativement les activités financières susceptibles d'être regardées comme accessoires en tenant compte...\"). Le mot \"limitativement\" et la formulation \"susceptibles d'être regardées comme accessoires\" restreignent/clarifient le champ d'exemption.\n",
      "- Ajout d'une exclusion explicite : le nouvel alinéa final prévoit que le premier alinéa ne s'applique pas aux personnes fournissant le service mentionné au 6° du II de l'article L. 314-1. C'est une exclusion spécifique qui n'existait pas dans la version précédente.\n",
      "- Clarification de rédaction générale : la nouvelle version précise davantage le périmètre et introduit une exclusion.\n",
      "\n",
      "Souhaitez‑vous :\n",
      "- que je fournisse un diff « marqué » (ajouts/suppressions surlignés) ?\n",
      "- que je vérifie/la date d'entrée en vigueur exacte et les métadonnées (si vous voulez la confirmation que la version en vigueur commence bien le 14/02/2020) ?\n",
      "- une analyse plus détaillée des conséquences juridiques de ces modifications ?\n",
      "\n",
      "(J'ai utilisé le token que vous avez fourni pour récupérer les deux versions.)\n"
     ]
    }
   ],
   "source": [
    "import requests\n",
    "from openai import OpenAI\n",
    "import os \n",
    "from dotenv import load_dotenv\n",
    "load_dotenv()\n",
    "\n",
    "client_id_prod=os.getenv('client_id_prod')\n",
    "client_secret_prod=os.getenv('client_secret_prod')\n",
    "\n",
    "\n",
    "def get_token():\n",
    "    token_url = 'https://oauth.piste.gouv.fr/api/oauth/token'\n",
    "    #inject cred \n",
    "    token_data = {\n",
    "    'grant_type': 'client_credentials',\n",
    "    'client_id': client_id_prod,\n",
    "    'client_secret': client_secret_prod,\n",
    "    'scope': 'openid'}\n",
    "    response = requests.post(token_url, data=token_data)\n",
    "    response.raise_for_status()  # vérif  erreurs\n",
    "    # récup  jeton\n",
    "    token_info = response.json()\n",
    "    access_token = token_info['access_token']\n",
    "    return access_token\n",
    "\n",
    "\n",
    "token=get_token()\n",
    "\n",
    "resp = OpenAI().responses.create(\n",
    "    #model=\"gpt-5-nano-2025-08-07\",\n",
    "    model='gpt-5-mini-2025-08-07',\n",
    "    tools=[\n",
    "        {\n",
    "            'type': 'mcp',\n",
    "            'server_label': 'OB_remote_server',\n",
    "            \"server_url\": \"https://90c7e45900d3.ngrok-free.app/mcp\", # propre serveur\n",
    "            \"require_approval\": \"never\"\n",
    "        }\n",
    "        ],\n",
    "    #input=\"Roll 2d4+1\",\n",
    "input=f\"récupère et compare les versions « précédente » et « en vigueur » du texte LEGIARTI000041577698 dont la date de début est le 14/02/2020 tu pourras utiliser le token suivant {token}  pour récupérer les infos \")\n",
    "#print(resp)    \n",
    "print(\"------ Statistics ------\")\n",
    "print(f\"Input tokens : {resp.usage.input_tokens}\" )\n",
    "print(f\"Output tokens : {resp.usage.output_tokens}\" )\n",
    "#print(f\"cached_tokens : {resp.usage.input_tokens_details.cached_tokens}\")\n",
    "print(f\"Total tokens : {resp.usage.total_tokens}\" )\n",
    "print(\"\")\n",
    "print(\"------------------   Chatbot reponse ------------------\")\n",
    "print(resp.output_text)"
   ]
  },
  {
   "cell_type": "code",
   "execution_count": null,
   "id": "b9bbd4b0",
   "metadata": {},
   "outputs": [],
   "source": [
    "resp = OpenAI().responses.create(\n",
    "    model=\"gpt-5-nano-2025-08-07\",\n",
    "    tools=[\n",
    "        {\n",
    "            \"type\": \"mcp\",\n",
    "            \"server_label\": \"deepwiki\",\n",
    "            \"server_url\": \"https://mcp.deepwiki.com/mcp\",\n",
    "            \"require_approval\": {\n",
    "                \"never\": {\n",
    "                    \"tool_names\": [\"ask_question\", \"read_wiki_structure\"]\n",
    "                }\n",
    "            }\n",
    "        },\n",
    "        {\n",
    "            'type': 'mcp',\n",
    "            'server_label': 'OB_remote_server',\n",
    "            \"server_url\": \"https://753ad3099860.ngrok-free.app/mcp\",\n",
    "            \"require_approval\": \"never\"\n",
    "        }\n",
    "        ],\n",
    "    #input=\"Roll 2d4+1\",\n",
    "    input=\"Hi! \",\n",
    ")\n",
    "\n",
    "#print(resp)    \n",
    "print(resp.output_text)"
   ]
  }
 ],
 "metadata": {
  "kernelspec": {
   "display_name": "mcp_env_v2",
   "language": "python",
   "name": "python3"
  },
  "language_info": {
   "codemirror_mode": {
    "name": "ipython",
    "version": 3
   },
   "file_extension": ".py",
   "mimetype": "text/x-python",
   "name": "python",
   "nbconvert_exporter": "python",
   "pygments_lexer": "ipython3",
   "version": "3.13.2"
  }
 },
 "nbformat": 4,
 "nbformat_minor": 5
}
