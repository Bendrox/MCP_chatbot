{
 "cells": [
  {
   "cell_type": "markdown",
   "id": "bb91e7e0",
   "metadata": {},
   "source": [
    "## 1 - Get token"
   ]
  },
  {
   "cell_type": "code",
   "execution_count": null,
   "id": "7cd06725",
   "metadata": {},
   "outputs": [],
   "source": [
    "## Sandbox - ok test\n",
    "\n",
    "import requests\n",
    "import os \n",
    "from dotenv import load_dotenv\n",
    "load_dotenv()\n",
    "client_id_sandbox=os.getenv('client_id_sandbox')\n",
    "client_secret_sandbox=os.getenv('client_secret_sandbox')\n",
    "\n",
    "def get_token():\n",
    "    token_url = 'https://sandbox-oauth.piste.gouv.fr/api/oauth/token'\n",
    "    #inject cred \n",
    "    token_data = {\n",
    "    'grant_type': 'client_credentials',\n",
    "    'client_id': client_id_sandbox,\n",
    "    'client_secret': client_secret_sandbox,\n",
    "    'scope': 'openid'}\n",
    "    response = requests.post(token_url, data=token_data)\n",
    "    response.raise_for_status()  \n",
    "    token_info = response.json()\n",
    "    global access_token\n",
    "    access_token = token_info['access_token']\n",
    "    return access_token\n",
    "\n",
    "get_token()"
   ]
  },
  {
   "cell_type": "code",
   "execution_count": null,
   "id": "ef1d53b4",
   "metadata": {},
   "outputs": [],
   "source": [
    "## Prod - ok test\n",
    "\n",
    "import requests\n",
    "import os \n",
    "from dotenv import load_dotenv\n",
    "load_dotenv()\n",
    "\n",
    "client_id_prod=os.getenv('client_id_prod')\n",
    "client_secret_prod=os.getenv('client_secret_prod')\n",
    "\n",
    "\n",
    "def get_token():\n",
    "    token_url = 'https://oauth.piste.gouv.fr/api/oauth/token'\n",
    "    #inject cred \n",
    "    token_data = {\n",
    "    'grant_type': 'client_credentials',\n",
    "    'client_id': client_id_prod,\n",
    "    'client_secret': client_secret_prod,\n",
    "    'scope': 'openid'}\n",
    "    response = requests.post(token_url, data=token_data)\n",
    "    response.raise_for_status()  \n",
    "    token_info = response.json()\n",
    "    access_token = token_info['access_token']\n",
    "    return access_token\n",
    "\n",
    "\n",
    "get_token()\n"
   ]
  }
 ],
 "metadata": {
  "kernelspec": {
   "display_name": "mcp_env_v2",
   "language": "python",
   "name": "python3"
  },
  "language_info": {
   "codemirror_mode": {
    "name": "ipython",
    "version": 3
   },
   "file_extension": ".py",
   "mimetype": "text/x-python",
   "name": "python",
   "nbconvert_exporter": "python",
   "pygments_lexer": "ipython3",
   "version": "3.13.2"
  }
 },
 "nbformat": 4,
 "nbformat_minor": 5
}
