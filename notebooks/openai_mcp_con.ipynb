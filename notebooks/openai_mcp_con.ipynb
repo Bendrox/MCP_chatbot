{
 "cells": [
  {
   "cell_type": "markdown",
   "id": "c25968da",
   "metadata": {},
   "source": [
    "## Testing MCP and OPENAI connectors"
   ]
  },
  {
   "cell_type": "code",
   "execution_count": null,
   "id": "d06d4122",
   "metadata": {},
   "outputs": [
    {
     "data": {
      "text/plain": [
       "True"
      ]
     },
     "execution_count": 21,
     "metadata": {},
     "output_type": "execute_result"
    }
   ],
   "source": [
    "import os\n",
    "from typing import Optional\n",
    "from dotenv import load_dotenv\n",
    "from typing import Any, Dict, List, Optional\n",
    "from openai import OpenAI\n",
    "\n",
    "load_dotenv() "
   ]
  },
  {
   "cell_type": "code",
   "execution_count": 7,
   "id": "2bf34f90",
   "metadata": {},
   "outputs": [],
   "source": [
    "import json \n",
    "\n",
    "# Charger la config des MCP\n",
    "with open(\"/Users/oussa/Desktop/Github_perso/chatbot_mcp/mcp_server_config/mcp_server_config.json\") as f:\n",
    "    config = json.load(f)\n",
    "\n",
    "tools = []\n",
    "for label, server in config[\"mcpServers\"].items():\n",
    "    tools.append({\n",
    "        \"type\": \"mcp\",\n",
    "        \"server_label\": label,\n",
    "        \"command\": server[\"command\"],\n",
    "        \"args\": server.get(\"args\", []),\n",
    "        \"require_approval\": \"never\"\n",
    "    })"
   ]
  },
  {
   "cell_type": "code",
   "execution_count": null,
   "id": "8a6acd85",
   "metadata": {},
   "outputs": [
    {
     "name": "stdout",
     "output_type": "stream",
     "text": [
      "Hi there! How can I help today?\n",
      "\n",
      "Here are a few things I can do:\n",
      "- Answer questions about a GitHub repository (owner/repo).\n",
      "- Read the wiki structure or contents of a repo.\n",
      "- Ask questions about a repo or fetch wiki details.\n",
      "- Tell you the current time in a specified IANA timezone.\n",
      "\n",
      "If you have a repo in mind, just share the owner/repo (e.g., owner/repo), and tell me what you want to know. Or tell me any other task you have in mind.\n"
     ]
    }
   ],
   "source": [
    "resp = OpenAI().responses.create(\n",
    "    model=\"gpt-5-nano-2025-08-07\",\n",
    "    tools=[\n",
    "        {\n",
    "            \"type\": \"mcp\",\n",
    "            \"server_label\": \"deepwiki\",\n",
    "            \"server_url\": \"https://mcp.deepwiki.com/mcp\",\n",
    "            \"require_approval\": {\n",
    "                \"never\": {\n",
    "                    \"tool_names\": [\"ask_question\", \"read_wiki_structure\"]\n",
    "                }\n",
    "            }\n",
    "        },\n",
    "        {\n",
    "            'type': 'mcp',\n",
    "            'server_label': 'OB_remote_server',\n",
    "            \"server_url\": \"https://0702c1016d24.ngrok-free.app/mcp\",\n",
    "            \"require_approval\": \"never\"\n",
    "        }\n",
    "        ],\n",
    "    #input=\"Roll 2d4+1\",\n",
    "    input=\"Hi! \",\n",
    ")\n",
    "\n",
    "#print(resp)    \n",
    "print(resp.output_text)"
   ]
  }
 ],
 "metadata": {
  "kernelspec": {
   "display_name": "mcp_env_v2",
   "language": "python",
   "name": "python3"
  },
  "language_info": {
   "codemirror_mode": {
    "name": "ipython",
    "version": 3
   },
   "file_extension": ".py",
   "mimetype": "text/x-python",
   "name": "python",
   "nbconvert_exporter": "python",
   "pygments_lexer": "ipython3",
   "version": "3.13.2"
  }
 },
 "nbformat": 4,
 "nbformat_minor": 5
}
