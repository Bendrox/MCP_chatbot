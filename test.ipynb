{
 "cells": [
  {
   "cell_type": "code",
   "execution_count": 27,
   "id": "c75224f1",
   "metadata": {},
   "outputs": [],
   "source": [
    "x=[1, 2, 3, 4, 5, 6]"
   ]
  },
  {
   "cell_type": "code",
   "execution_count": 25,
   "id": "b54a6c28",
   "metadata": {},
   "outputs": [],
   "source": [
    "def somme_odd(x):\n",
    "    z=[]\n",
    "    for i in x:\n",
    "        if i%2 == 0:\n",
    "            z.append(i) \n",
    "        else:\n",
    "            z.append(0)\n",
    "    zz=sum(z)\n",
    "    print(zz)"
   ]
  },
  {
   "cell_type": "code",
   "execution_count": null,
   "id": "6b9d8cb7",
   "metadata": {},
   "outputs": [
    {
     "name": "stdout",
     "output_type": "stream",
     "text": [
      "12\n"
     ]
    }
   ],
   "source": [
    "somme_odd(x)"
   ]
  },
  {
   "cell_type": "code",
   "execution_count": 28,
   "id": "c53bd382",
   "metadata": {},
   "outputs": [],
   "source": [
    "def somme_even(x):\n",
    "    z=[]\n",
    "    for i in x:\n",
    "        if i%2 == 0:\n",
    "            z.append(0) \n",
    "        else:\n",
    "            z.append(i)\n",
    "    zz=sum(z)\n",
    "    print(zz)"
   ]
  },
  {
   "cell_type": "code",
   "execution_count": 29,
   "id": "6e961c63",
   "metadata": {},
   "outputs": [
    {
     "name": "stdout",
     "output_type": "stream",
     "text": [
      "9\n"
     ]
    }
   ],
   "source": [
    "somme_even(x)"
   ]
  },
  {
   "cell_type": "code",
   "execution_count": 31,
   "id": "4a06f2c3",
   "metadata": {},
   "outputs": [
    {
     "name": "stdout",
     "output_type": "stream",
     "text": [
      "['hello', 'world', 'python']\n"
     ]
    }
   ],
   "source": [
    "a=\"hello world python\"\n",
    "aa= a.split()\n",
    "print(aa)"
   ]
  },
  {
   "cell_type": "code",
   "execution_count": null,
   "id": "d03d5f05",
   "metadata": {},
   "outputs": [
    {
     "ename": "TypeError",
     "evalue": "unhashable type: 'dict'",
     "output_type": "error",
     "traceback": [
      "\u001b[31m---------------------------------------------------------------------------\u001b[39m",
      "\u001b[31mTypeError\u001b[39m                                 Traceback (most recent call last)",
      "\u001b[36mCell\u001b[39m\u001b[36m \u001b[39m\u001b[32mIn[64]\u001b[39m\u001b[32m, line 3\u001b[39m\n\u001b[32m      1\u001b[39m \u001b[38;5;28;01mfor\u001b[39;00m i \u001b[38;5;129;01min\u001b[39;00m \u001b[38;5;28mrange\u001b[39m(\u001b[38;5;28mlen\u001b[39m(aa)):\n\u001b[32m      2\u001b[39m     yy={\u001b[38;5;28mlen\u001b[39m(aa[i]):aa[i]}\n\u001b[32m----> \u001b[39m\u001b[32m3\u001b[39m     yyy={yy}\n\u001b[32m      4\u001b[39m     \u001b[38;5;28mprint\u001b[39m(yyy)\n",
      "\u001b[31mTypeError\u001b[39m: unhashable type: 'dict'"
     ]
    }
   ],
   "source": [
    "for i in range(len(aa)):\n",
    "    yy={len(aa[i]):aa[i]}\n",
    "    print(yy)"
   ]
  }
 ],
 "metadata": {
  "kernelspec": {
   "display_name": "mcp_env_v2",
   "language": "python",
   "name": "python3"
  },
  "language_info": {
   "codemirror_mode": {
    "name": "ipython",
    "version": 3
   },
   "file_extension": ".py",
   "mimetype": "text/x-python",
   "name": "python",
   "nbconvert_exporter": "python",
   "pygments_lexer": "ipython3",
   "version": "3.13.2"
  }
 },
 "nbformat": 4,
 "nbformat_minor": 5
}
